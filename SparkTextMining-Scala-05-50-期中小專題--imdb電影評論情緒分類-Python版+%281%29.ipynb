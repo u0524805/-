{
 "cells": [
  {
   "cell_type": "markdown",
   "metadata": {},
   "source": [
    "# 請針對大型IMDB資料集隨機抽樣至少5000筆(正負各半)進行情緒分類\n",
    "\n",
    "## 比較各種可能的輸入向量模型搭配可能的分類器的準確度\n",
    "\n",
    "可能的輸入向量模型:\n",
    "* TF-countVector\n",
    "* TF+PCA (必選)\n",
    "* HTF\n",
    "* HTF+IDF (必選)\n",
    "* Word2Vec (必選)\n",
    "\n",
    "分類器:\n",
    "* MLP類神經網路 (必選)\n",
    "* Random Forest (必選) \n",
    "* Logistic Regression"
   ]
  },
  {
   "cell_type": "code",
   "execution_count": null,
   "metadata": {
    "collapsed": true
   },
   "outputs": [],
   "source": []
  },
  {
   "cell_type": "code",
   "execution_count": null,
   "metadata": {
    "collapsed": true
   },
   "outputs": [],
   "source": []
  },
  {
   "cell_type": "code",
   "execution_count": null,
   "metadata": {
    "collapsed": true
   },
   "outputs": [],
   "source": []
  },
  {
   "cell_type": "code",
   "execution_count": null,
   "metadata": {
    "collapsed": true
   },
   "outputs": [],
   "source": []
  }
 ],
 "metadata": {
  "kernelspec": {
   "display_name": "Python 3",
   "language": "python",
   "name": "python3"
  },
  "language_info": {
   "codemirror_mode": {
    "name": "ipython",
    "version": 3
   },
   "file_extension": ".py",
   "mimetype": "text/x-python",
   "name": "python",
   "nbconvert_exporter": "python",
   "pygments_lexer": "ipython3",
   "version": "3.5.2"
  }
 },
 "nbformat": 4,
 "nbformat_minor": 2
}
